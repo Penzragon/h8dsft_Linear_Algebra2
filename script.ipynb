{
 "cells": [
  {
   "cell_type": "markdown",
   "metadata": {},
   "source": [
    "# Hacktiv8 Phase 0: Non Graded Challenge 4\n",
    "\n",
    "---\n",
    "\n",
    "By [Rifky Aliffa](https://github.com/Penzragon)\n",
    "\n",
    "Instruction:\n",
    "\n",
    "1. Buatlah Tensor di bawah ini dengan Python:\n",
    "\n",
    "   ![Tensor](https://latex.codecogs.com/gif.latex?%5Cinline%20%5Cbegin%7Bbmatrix%7D%20%5Cbegin%7Bbmatrix%7D23%20%26%2050%5C%5C%207%20%26%2012%20%5Cend%7Bbmatrix%7D%20%26%20%5Cbegin%7Bbmatrix%7D57%20%26%2067%5C%5C%2099%20%26%2043%20%5Cend%7Bbmatrix%7D%20%5C%5C%20%5Cbegin%7Bbmatrix%7D75%20%26%2021%5C%5C%2057%20%26%2012%20%5Cend%7Bbmatrix%7D%20%26%20%5Cbegin%7Bbmatrix%7D87%20%26%2026%5C%5C%2018%20%26%2084%20%5Cend%7Bbmatrix%7D%20%5Cend%7Bbmatrix%7D)\n",
    "\n",
    "2. Lakukan perkalian terhadap matrix berikut:\n",
    "\n",
    "   ![Matrix](https://latex.codecogs.com/gif.latex?%5Cinline%20A%20%3D%20%5Cbegin%7Bbmatrix%7D%2023%20%26%2050%20%26%2019%5C%5C%207%20%26%2012%20%26%20109%5C%5C%2057%20%26%2067%20%26%2098%20%5Cend%7Bbmatrix%7D%2C%20B%20%3D%20%5Cbegin%7Bbmatrix%7D7%20%5C%5C%2022%20%5C%5C%2019%20%5Cend%7Bbmatrix%7D)\n",
    "\n",
    "3. Lakukan Transpose, hitung determinan, dan inverse terhadap matrix di bawah ini:\n",
    "\n",
    "   ![Matrix](https://latex.codecogs.com/gif.latex?%5Cinline%20A%20%3D%20%5Cbegin%7Bbmatrix%7D%2023%20%26%2050%20%26%2019%5C%5C%207%20%26%2012%20%26%20109%5C%5C%2057%20%26%2067%20%26%2098%20%5Cend%7Bbmatrix%7D)\n"
   ]
  },
  {
   "cell_type": "markdown",
   "metadata": {},
   "source": [
    "## Import Library"
   ]
  },
  {
   "cell_type": "code",
   "execution_count": 1,
   "metadata": {},
   "outputs": [],
   "source": [
    "import numpy as np"
   ]
  },
  {
   "cell_type": "markdown",
   "metadata": {},
   "source": [
    "## Answer"
   ]
  },
  {
   "cell_type": "markdown",
   "metadata": {},
   "source": [
    "### 1. Buatlah Tensor di bawah ini dengan Python:\n",
    "\n",
    "![Tensor](https://latex.codecogs.com/gif.latex?%5Cinline%20%5Cbegin%7Bbmatrix%7D%20%5Cbegin%7Bbmatrix%7D23%20%26%2050%5C%5C%207%20%26%2012%20%5Cend%7Bbmatrix%7D%20%26%20%5Cbegin%7Bbmatrix%7D57%20%26%2067%5C%5C%2099%20%26%2043%20%5Cend%7Bbmatrix%7D%20%5C%5C%20%5Cbegin%7Bbmatrix%7D75%20%26%2021%5C%5C%2057%20%26%2012%20%5Cend%7Bbmatrix%7D%20%26%20%5Cbegin%7Bbmatrix%7D87%20%26%2026%5C%5C%2018%20%26%2084%20%5Cend%7Bbmatrix%7D%20%5Cend%7Bbmatrix%7D)"
   ]
  },
  {
   "cell_type": "code",
   "execution_count": 2,
   "metadata": {},
   "outputs": [
    {
     "data": {
      "text/plain": [
       "array([[[23, 50],\n",
       "        [ 7, 12]],\n",
       "\n",
       "       [[57, 67],\n",
       "        [99, 43]],\n",
       "\n",
       "       [[75, 21],\n",
       "        [57, 12]],\n",
       "\n",
       "       [[87, 26],\n",
       "        [18, 84]]])"
      ]
     },
     "execution_count": 2,
     "metadata": {},
     "output_type": "execute_result"
    }
   ],
   "source": [
    "np.array([[[23, 50], [7, 12]], \n",
    "          [[57, 67], [99, 43]],\n",
    "          [[75, 21], [57, 12]],\n",
    "          [[87, 26], [18, 84]]])"
   ]
  },
  {
   "cell_type": "markdown",
   "metadata": {},
   "source": [
    "### 2. Lakukan perkalian terhadap matrix berikut:\n",
    "\n",
    "![Matrix](https://latex.codecogs.com/gif.latex?%5Cinline%20A%20%3D%20%5Cbegin%7Bbmatrix%7D%2023%20%26%2050%20%26%2019%5C%5C%207%20%26%2012%20%26%20109%5C%5C%2057%20%26%2067%20%26%2098%20%5Cend%7Bbmatrix%7D%2C%20B%20%3D%20%5Cbegin%7Bbmatrix%7D7%20%5C%5C%2022%20%5C%5C%2019%20%5Cend%7Bbmatrix%7D)"
   ]
  },
  {
   "cell_type": "markdown",
   "metadata": {},
   "source": [
    "Membuat matrix A"
   ]
  },
  {
   "cell_type": "code",
   "execution_count": 3,
   "metadata": {},
   "outputs": [
    {
     "data": {
      "text/plain": [
       "array([[ 23,  50,  19],\n",
       "       [  7,  12, 109],\n",
       "       [ 57,  67,  98]])"
      ]
     },
     "execution_count": 3,
     "metadata": {},
     "output_type": "execute_result"
    }
   ],
   "source": [
    "A = [[23, 50, 19], [7, 12, 109], [57, 67, 98]]\n",
    "A = np.array(A)\n",
    "A"
   ]
  },
  {
   "cell_type": "markdown",
   "metadata": {},
   "source": [
    "Membuat vector B"
   ]
  },
  {
   "cell_type": "code",
   "execution_count": 4,
   "metadata": {},
   "outputs": [
    {
     "data": {
      "text/plain": [
       "array([17, 22, 19])"
      ]
     },
     "execution_count": 4,
     "metadata": {},
     "output_type": "execute_result"
    }
   ],
   "source": [
    "B = [17, 22, 19]\n",
    "B = np.array(B)\n",
    "B"
   ]
  },
  {
   "cell_type": "markdown",
   "metadata": {},
   "source": [
    "Melakukan perkalian terhadap matrix A dan vector B"
   ]
  },
  {
   "cell_type": "code",
   "execution_count": 5,
   "metadata": {},
   "outputs": [
    {
     "data": {
      "text/plain": [
       "array([1852, 2454, 4305])"
      ]
     },
     "execution_count": 5,
     "metadata": {},
     "output_type": "execute_result"
    }
   ],
   "source": [
    "A @ B"
   ]
  },
  {
   "cell_type": "markdown",
   "metadata": {},
   "source": [
    "Melakukan perkalian dengan ***Hadamard Product*** (Element-wise)"
   ]
  },
  {
   "cell_type": "code",
   "execution_count": 6,
   "metadata": {},
   "outputs": [
    {
     "data": {
      "text/plain": [
       "array([[ 391, 1100,  361],\n",
       "       [ 119,  264, 2071],\n",
       "       [ 969, 1474, 1862]])"
      ]
     },
     "execution_count": 6,
     "metadata": {},
     "output_type": "execute_result"
    }
   ],
   "source": [
    "A * B"
   ]
  }
 ],
 "metadata": {
  "interpreter": {
   "hash": "aa9e1a1d5fc59c64a36ca54f7d8a22385cd9af1c34966b28ec5cc3b7d8afa19f"
  },
  "kernelspec": {
   "display_name": "Python 3.9.1 64-bit",
   "language": "python",
   "name": "python3"
  },
  "language_info": {
   "codemirror_mode": {
    "name": "ipython",
    "version": 3
   },
   "file_extension": ".py",
   "mimetype": "text/x-python",
   "name": "python",
   "nbconvert_exporter": "python",
   "pygments_lexer": "ipython3",
   "version": "3.9.1"
  },
  "orig_nbformat": 4
 },
 "nbformat": 4,
 "nbformat_minor": 2
}
